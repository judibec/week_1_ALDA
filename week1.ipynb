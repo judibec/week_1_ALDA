{
 "cells": [
  {
   "cell_type": "code",
   "execution_count": 1,
   "id": "443ca3ea",
   "metadata": {},
   "outputs": [],
   "source": [
    "import pandas"
   ]
  },
  {
   "cell_type": "code",
   "execution_count": 2,
   "id": "93d1c00b",
   "metadata": {},
   "outputs": [],
   "source": [
    "import matplotlib"
   ]
  },
  {
   "cell_type": "code",
   "execution_count": 3,
   "id": "946e9532",
   "metadata": {},
   "outputs": [
    {
     "name": "stdout",
     "output_type": "stream",
     "text": [
      "hello world\n"
     ]
    }
   ],
   "source": [
    "print (\"hello world\")"
   ]
  },
  {
   "cell_type": "code",
   "execution_count": 4,
   "id": "841cd895",
   "metadata": {},
   "outputs": [],
   "source": [
    "import random"
   ]
  },
  {
   "cell_type": "code",
   "execution_count": 8,
   "id": "1df996ca",
   "metadata": {},
   "outputs": [],
   "source": [
    "#Random number\n",
    "def randomNumber(ini,end):\n",
    "    print (random.randint(ini,end))"
   ]
  },
  {
   "cell_type": "code",
   "execution_count": 9,
   "id": "c5e5ece0",
   "metadata": {},
   "outputs": [
    {
     "name": "stdout",
     "output_type": "stream",
     "text": [
      "29\n"
     ]
    }
   ],
   "source": [
    "randomNumber(0,100)"
   ]
  },
  {
   "cell_type": "code",
   "execution_count": 17,
   "id": "f91ab658",
   "metadata": {},
   "outputs": [],
   "source": [
    "import string"
   ]
  },
  {
   "cell_type": "code",
   "execution_count": 20,
   "id": "f2fa8e8b",
   "metadata": {},
   "outputs": [],
   "source": [
    "#Random String\n",
    "def randomString(size):\n",
    "    strRes=''\n",
    "    for i in range(size):\n",
    "        strRes += string.ascii_letters[random.randint(0,len(string.ascii_letters))]\n",
    "    print(strRes)"
   ]
  },
  {
   "cell_type": "code",
   "execution_count": 23,
   "id": "541ed168",
   "metadata": {},
   "outputs": [
    {
     "name": "stdout",
     "output_type": "stream",
     "text": [
      "MUeei\n"
     ]
    }
   ],
   "source": [
    "randomString(5)"
   ]
  },
  {
   "cell_type": "code",
   "execution_count": 52,
   "id": "a04c7226",
   "metadata": {},
   "outputs": [],
   "source": [
    "#Random String from dict\n",
    "def randomInDict(fileName):\n",
    "    file = open(fileName)\n",
    "    arrayLines = file.readlines()\n",
    "    fileIndex = random.randint(0,len(arrayLines)-1)\n",
    "    print(arrayLines[fileIndex].replace(\"\\n\",\"\"))\n",
    "    file.close()"
   ]
  },
  {
   "cell_type": "code",
   "execution_count": 53,
   "id": "2b272095",
   "metadata": {},
   "outputs": [
    {
     "name": "stdout",
     "output_type": "stream",
     "text": [
      "Sergio\n"
     ]
    }
   ],
   "source": [
    "randomInDict(\"names.txt\")"
   ]
  },
  {
   "cell_type": "code",
   "execution_count": 118,
   "id": "36cf7e9c",
   "metadata": {},
   "outputs": [],
   "source": [
    "# Random sets within interval\n",
    "def randomIDs(leng,ini,end):\n",
    "    if (ini == end and leng == 1):\n",
    "        print (ini)\n",
    "    elif (end-ini<leng):\n",
    "        print(\"el rango posible es mas pequeño que la cantidad de numeros solicitados\")\n",
    "    elif ini<end:\n",
    "        IDsList = []\n",
    "        for i in range (leng):\n",
    "            ID = (random.randint(ini,end))\n",
    "            while(ID in IDsList):\n",
    "                ID = (random.randint(ini,end))\n",
    "            IDsList+=[ID]\n",
    "        IDsList = set(IDsList)\n",
    "        print(IDsList)\n",
    "    else:\n",
    "        print (\"Los rangos indicados son incorrectos\")"
   ]
  },
  {
   "cell_type": "code",
   "execution_count": 121,
   "id": "5a90e7ce",
   "metadata": {},
   "outputs": [
    {
     "ename": "KeyboardInterrupt",
     "evalue": "",
     "output_type": "error",
     "traceback": [
      "\u001b[1;31m---------------------------------------------------------------------------\u001b[0m",
      "\u001b[1;31mKeyboardInterrupt\u001b[0m                         Traceback (most recent call last)",
      "\u001b[1;32m~\\AppData\\Local\\Temp\\ipykernel_10184\\4023708039.py\u001b[0m in \u001b[0;36m<module>\u001b[1;34m\u001b[0m\n\u001b[1;32m----> 1\u001b[1;33m \u001b[0mrandomIDs\u001b[0m\u001b[1;33m(\u001b[0m\u001b[1;36m10000000\u001b[0m\u001b[1;33m,\u001b[0m\u001b[1;36m0\u001b[0m\u001b[1;33m,\u001b[0m\u001b[1;36m10000001\u001b[0m\u001b[1;33m)\u001b[0m\u001b[1;33m\u001b[0m\u001b[1;33m\u001b[0m\u001b[0m\n\u001b[0m",
      "\u001b[1;32m~\\AppData\\Local\\Temp\\ipykernel_10184\\2860265780.py\u001b[0m in \u001b[0;36mrandomIDs\u001b[1;34m(leng, ini, end)\u001b[0m\n\u001b[0;32m     11\u001b[0m             \u001b[1;32mwhile\u001b[0m\u001b[1;33m(\u001b[0m\u001b[0mID\u001b[0m \u001b[1;32min\u001b[0m \u001b[0mIDsList\u001b[0m\u001b[1;33m)\u001b[0m\u001b[1;33m:\u001b[0m\u001b[1;33m\u001b[0m\u001b[1;33m\u001b[0m\u001b[0m\n\u001b[0;32m     12\u001b[0m                 \u001b[0mID\u001b[0m \u001b[1;33m=\u001b[0m \u001b[1;33m(\u001b[0m\u001b[0mrandom\u001b[0m\u001b[1;33m.\u001b[0m\u001b[0mrandint\u001b[0m\u001b[1;33m(\u001b[0m\u001b[0mini\u001b[0m\u001b[1;33m,\u001b[0m\u001b[0mend\u001b[0m\u001b[1;33m)\u001b[0m\u001b[1;33m)\u001b[0m\u001b[1;33m\u001b[0m\u001b[1;33m\u001b[0m\u001b[0m\n\u001b[1;32m---> 13\u001b[1;33m             \u001b[0mIDsList\u001b[0m\u001b[1;33m+=\u001b[0m\u001b[1;33m[\u001b[0m\u001b[0mID\u001b[0m\u001b[1;33m]\u001b[0m\u001b[1;33m\u001b[0m\u001b[1;33m\u001b[0m\u001b[0m\n\u001b[0m\u001b[0;32m     14\u001b[0m         \u001b[0mIDsList\u001b[0m \u001b[1;33m=\u001b[0m \u001b[0mset\u001b[0m\u001b[1;33m(\u001b[0m\u001b[0mIDsList\u001b[0m\u001b[1;33m)\u001b[0m\u001b[1;33m\u001b[0m\u001b[1;33m\u001b[0m\u001b[0m\n\u001b[0;32m     15\u001b[0m         \u001b[0mprint\u001b[0m\u001b[1;33m(\u001b[0m\u001b[0mIDsList\u001b[0m\u001b[1;33m)\u001b[0m\u001b[1;33m\u001b[0m\u001b[1;33m\u001b[0m\u001b[0m\n",
      "\u001b[1;31mKeyboardInterrupt\u001b[0m: "
     ]
    }
   ],
   "source": [
    "randomIDs(10000000,0,10000001)"
   ]
  },
  {
   "cell_type": "code",
   "execution_count": 54,
   "id": "2fde487e",
   "metadata": {},
   "outputs": [
    {
     "name": "stdout",
     "output_type": "stream",
     "text": [
      "{1}\n"
     ]
    }
   ],
   "source": [
    "print(set([1,1]))"
   ]
  },
  {
   "cell_type": "code",
   "execution_count": null,
   "id": "4b54c40c",
   "metadata": {},
   "outputs": [],
   "source": []
  }
 ],
 "metadata": {
  "kernelspec": {
   "display_name": "Python 3 (ipykernel)",
   "language": "python",
   "name": "python3"
  },
  "language_info": {
   "codemirror_mode": {
    "name": "ipython",
    "version": 3
   },
   "file_extension": ".py",
   "mimetype": "text/x-python",
   "name": "python",
   "nbconvert_exporter": "python",
   "pygments_lexer": "ipython3",
   "version": "3.9.13"
  }
 },
 "nbformat": 4,
 "nbformat_minor": 5
}
